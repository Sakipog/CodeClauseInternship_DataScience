{
 "cells": [
  {
   "cell_type": "code",
   "execution_count": 3,
   "metadata": {},
   "outputs": [
    {
     "name": "stdout",
     "output_type": "stream",
     "text": [
      "Accuracy: 0.9902439024390244\n",
      "Model saved as heart_disease_model.pkl\n"
     ]
    }
   ],
   "source": [
    "import pandas as pd\n",
    "from sklearn.ensemble import RandomForestClassifier\n",
    "from sklearn.model_selection import train_test_split\n",
    "from sklearn.metrics import accuracy_score\n",
    "import joblib\n",
    "\n",
    "# Load the dataset\n",
    "# Replace with the path to your dataset (e.g., UCI Heart Disease dataset)\n",
    "data = pd.read_csv(r\"C:\\Users\\admin\\Downloads\\CODECLAUSE INTERN\\Project 3\\heart.csv\")\n",
    "\n",
    "# Feature selection (adjust based on your dataset)\n",
    "# Example columns: 'age', 'sex', 'cholesterol', 'blood_pressure', etc.\n",
    "X = data[['age', 'sex', 'chol', 'fbs']]\n",
    "y = data['target']  # 1 = High Risk, 0 = Low Risk\n",
    "\n",
    "# Train-test split\n",
    "X_train, X_test, y_train, y_test = train_test_split(X, y, test_size=0.2, random_state=42)\n",
    "\n",
    "# Train Random Forest Classifier\n",
    "rf_model = RandomForestClassifier(random_state=42)\n",
    "rf_model.fit(X_train, y_train)\n",
    "\n",
    "# Evaluate the model\n",
    "y_pred = rf_model.predict(X_test)\n",
    "print(\"Accuracy:\", accuracy_score(y_test, y_pred))\n",
    "\n",
    "# Save the model\n",
    "joblib.dump(rf_model, \"heart_disease_model.pkl\")\n",
    "print(\"Model saved as heart_disease_model.pkl\")\n"
   ]
  }
 ],
 "metadata": {
  "kernelspec": {
   "display_name": "base",
   "language": "python",
   "name": "python3"
  },
  "language_info": {
   "codemirror_mode": {
    "name": "ipython",
    "version": 3
   },
   "file_extension": ".py",
   "mimetype": "text/x-python",
   "name": "python",
   "nbconvert_exporter": "python",
   "pygments_lexer": "ipython3",
   "version": "3.12.4"
  }
 },
 "nbformat": 4,
 "nbformat_minor": 2
}
